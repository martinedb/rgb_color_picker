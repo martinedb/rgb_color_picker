import pandas as pd

# Define base and gray colors
base_color = {'R': 190, 'G': 80, 'B': 20}
gray_color = {'R': 191, 'G': 191, 'B': 191}

# Create thresholds for 0-10%, 10-20%, ..., 90-100%
thresholds = [i/10 for i in range(1, 11)]  # 0.1 to 1.0

# Compute blended colors using upper bound weight for each bracket
data = []
for t in thresholds:
    blended_r = round(base_color['R'] * (1 - t) + gray_color['R'] * t)
    blended_g = round(base_color['G'] * (1 - t) + gray_color['G'] * t)
    blended_b = round(base_color['B'] * (1 - t) + gray_color['B'] * t)
    data.append({'UpperBound (%)': f"{int(t*100)}%", 'R': blended_r, 'G': blended_g, 'B': blended_b})

df = pd.DataFrame(data)
print(df)
